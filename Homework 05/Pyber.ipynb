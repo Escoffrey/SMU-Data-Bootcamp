{
 "cells": [
  {
   "cell_type": "code",
   "execution_count": 1,
   "metadata": {},
   "outputs": [],
   "source": [
    "# Pyber Ride Sharing Analysis"
   ]
  },
  {
   "cell_type": "code",
   "execution_count": 2,
   "metadata": {},
   "outputs": [],
   "source": [
    "%matplotlib inline\n",
    "# Dependencies and Setup\n",
    "import matplotlib.pyplot as plt\n",
    "import pandas as pd\n",
    "import numpy as np\n"
   ]
  },
  {
   "cell_type": "code",
   "execution_count": 3,
   "metadata": {},
   "outputs": [],
   "source": [
    "# File to Load: Import City and Ride data csv files\n",
    "city_data = \"city_data.csv\"\n",
    "ride_data = \"ride_data.csv\""
   ]
  },
  {
   "cell_type": "code",
   "execution_count": 4,
   "metadata": {},
   "outputs": [
    {
     "data": {
      "text/html": [
       "<div>\n",
       "<style scoped>\n",
       "    .dataframe tbody tr th:only-of-type {\n",
       "        vertical-align: middle;\n",
       "    }\n",
       "\n",
       "    .dataframe tbody tr th {\n",
       "        vertical-align: top;\n",
       "    }\n",
       "\n",
       "    .dataframe thead th {\n",
       "        text-align: right;\n",
       "    }\n",
       "</style>\n",
       "<table border=\"1\" class=\"dataframe\">\n",
       "  <thead>\n",
       "    <tr style=\"text-align: right;\">\n",
       "      <th></th>\n",
       "      <th>city</th>\n",
       "      <th>driver_count</th>\n",
       "      <th>type</th>\n",
       "    </tr>\n",
       "  </thead>\n",
       "  <tbody>\n",
       "    <tr>\n",
       "      <th>0</th>\n",
       "      <td>Richardfort</td>\n",
       "      <td>38</td>\n",
       "      <td>Urban</td>\n",
       "    </tr>\n",
       "    <tr>\n",
       "      <th>1</th>\n",
       "      <td>Williamsstad</td>\n",
       "      <td>59</td>\n",
       "      <td>Urban</td>\n",
       "    </tr>\n",
       "    <tr>\n",
       "      <th>2</th>\n",
       "      <td>Port Angela</td>\n",
       "      <td>67</td>\n",
       "      <td>Urban</td>\n",
       "    </tr>\n",
       "    <tr>\n",
       "      <th>3</th>\n",
       "      <td>Rodneyfort</td>\n",
       "      <td>34</td>\n",
       "      <td>Urban</td>\n",
       "    </tr>\n",
       "    <tr>\n",
       "      <th>4</th>\n",
       "      <td>West Robert</td>\n",
       "      <td>39</td>\n",
       "      <td>Urban</td>\n",
       "    </tr>\n",
       "  </tbody>\n",
       "</table>\n",
       "</div>"
      ],
      "text/plain": [
       "           city  driver_count   type\n",
       "0   Richardfort            38  Urban\n",
       "1  Williamsstad            59  Urban\n",
       "2   Port Angela            67  Urban\n",
       "3    Rodneyfort            34  Urban\n",
       "4   West Robert            39  Urban"
      ]
     },
     "execution_count": 4,
     "metadata": {},
     "output_type": "execute_result"
    }
   ],
   "source": [
    "# Read the City data file using pandas library\n",
    "city_data_df = pd.read_csv(city_data)\n",
    "city_df = city_data_df\n",
    "city_df.head()"
   ]
  },
  {
   "cell_type": "code",
   "execution_count": 5,
   "metadata": {},
   "outputs": [
    {
     "data": {
      "text/html": [
       "<div>\n",
       "<style scoped>\n",
       "    .dataframe tbody tr th:only-of-type {\n",
       "        vertical-align: middle;\n",
       "    }\n",
       "\n",
       "    .dataframe tbody tr th {\n",
       "        vertical-align: top;\n",
       "    }\n",
       "\n",
       "    .dataframe thead th {\n",
       "        text-align: right;\n",
       "    }\n",
       "</style>\n",
       "<table border=\"1\" class=\"dataframe\">\n",
       "  <thead>\n",
       "    <tr style=\"text-align: right;\">\n",
       "      <th></th>\n",
       "      <th>city</th>\n",
       "      <th>date</th>\n",
       "      <th>fare</th>\n",
       "      <th>ride_id</th>\n",
       "    </tr>\n",
       "  </thead>\n",
       "  <tbody>\n",
       "    <tr>\n",
       "      <th>0</th>\n",
       "      <td>Lake Jonathanshire</td>\n",
       "      <td>2018-01-14 10:14:22</td>\n",
       "      <td>13.83</td>\n",
       "      <td>5739410935873</td>\n",
       "    </tr>\n",
       "    <tr>\n",
       "      <th>1</th>\n",
       "      <td>South Michelleport</td>\n",
       "      <td>2018-03-04 18:24:09</td>\n",
       "      <td>30.24</td>\n",
       "      <td>2343912425577</td>\n",
       "    </tr>\n",
       "    <tr>\n",
       "      <th>2</th>\n",
       "      <td>Port Samanthamouth</td>\n",
       "      <td>2018-02-24 04:29:00</td>\n",
       "      <td>33.44</td>\n",
       "      <td>2005065760003</td>\n",
       "    </tr>\n",
       "    <tr>\n",
       "      <th>3</th>\n",
       "      <td>Rodneyfort</td>\n",
       "      <td>2018-02-10 23:22:03</td>\n",
       "      <td>23.44</td>\n",
       "      <td>5149245426178</td>\n",
       "    </tr>\n",
       "    <tr>\n",
       "      <th>4</th>\n",
       "      <td>South Jack</td>\n",
       "      <td>2018-03-06 04:28:35</td>\n",
       "      <td>34.58</td>\n",
       "      <td>3908451377344</td>\n",
       "    </tr>\n",
       "  </tbody>\n",
       "</table>\n",
       "</div>"
      ],
      "text/plain": [
       "                 city                 date   fare        ride_id\n",
       "0  Lake Jonathanshire  2018-01-14 10:14:22  13.83  5739410935873\n",
       "1  South Michelleport  2018-03-04 18:24:09  30.24  2343912425577\n",
       "2  Port Samanthamouth  2018-02-24 04:29:00  33.44  2005065760003\n",
       "3          Rodneyfort  2018-02-10 23:22:03  23.44  5149245426178\n",
       "4          South Jack  2018-03-06 04:28:35  34.58  3908451377344"
      ]
     },
     "execution_count": 5,
     "metadata": {},
     "output_type": "execute_result"
    }
   ],
   "source": [
    "# Read the Ride data file using pandas library\n",
    "ride_data_df = pd.read_csv(ride_data)\n",
    "ride_df = ride_data_df\n",
    "ride_df.head()"
   ]
  },
  {
   "cell_type": "code",
   "execution_count": 6,
   "metadata": {},
   "outputs": [
    {
     "data": {
      "text/html": [
       "<div>\n",
       "<style scoped>\n",
       "    .dataframe tbody tr th:only-of-type {\n",
       "        vertical-align: middle;\n",
       "    }\n",
       "\n",
       "    .dataframe tbody tr th {\n",
       "        vertical-align: top;\n",
       "    }\n",
       "\n",
       "    .dataframe thead th {\n",
       "        text-align: right;\n",
       "    }\n",
       "</style>\n",
       "<table border=\"1\" class=\"dataframe\">\n",
       "  <thead>\n",
       "    <tr style=\"text-align: right;\">\n",
       "      <th></th>\n",
       "      <th>city</th>\n",
       "      <th>date</th>\n",
       "      <th>fare</th>\n",
       "      <th>ride_id</th>\n",
       "      <th>driver_count</th>\n",
       "      <th>type</th>\n",
       "    </tr>\n",
       "  </thead>\n",
       "  <tbody>\n",
       "    <tr>\n",
       "      <th>0</th>\n",
       "      <td>Lake Jonathanshire</td>\n",
       "      <td>2018-01-14 10:14:22</td>\n",
       "      <td>13.83</td>\n",
       "      <td>5739410935873</td>\n",
       "      <td>5</td>\n",
       "      <td>Urban</td>\n",
       "    </tr>\n",
       "    <tr>\n",
       "      <th>1</th>\n",
       "      <td>South Michelleport</td>\n",
       "      <td>2018-03-04 18:24:09</td>\n",
       "      <td>30.24</td>\n",
       "      <td>2343912425577</td>\n",
       "      <td>72</td>\n",
       "      <td>Urban</td>\n",
       "    </tr>\n",
       "    <tr>\n",
       "      <th>2</th>\n",
       "      <td>Port Samanthamouth</td>\n",
       "      <td>2018-02-24 04:29:00</td>\n",
       "      <td>33.44</td>\n",
       "      <td>2005065760003</td>\n",
       "      <td>57</td>\n",
       "      <td>Urban</td>\n",
       "    </tr>\n",
       "    <tr>\n",
       "      <th>3</th>\n",
       "      <td>Rodneyfort</td>\n",
       "      <td>2018-02-10 23:22:03</td>\n",
       "      <td>23.44</td>\n",
       "      <td>5149245426178</td>\n",
       "      <td>34</td>\n",
       "      <td>Urban</td>\n",
       "    </tr>\n",
       "    <tr>\n",
       "      <th>4</th>\n",
       "      <td>South Jack</td>\n",
       "      <td>2018-03-06 04:28:35</td>\n",
       "      <td>34.58</td>\n",
       "      <td>3908451377344</td>\n",
       "      <td>46</td>\n",
       "      <td>Urban</td>\n",
       "    </tr>\n",
       "  </tbody>\n",
       "</table>\n",
       "</div>"
      ],
      "text/plain": [
       "                 city                 date   fare        ride_id  \\\n",
       "0  Lake Jonathanshire  2018-01-14 10:14:22  13.83  5739410935873   \n",
       "1  South Michelleport  2018-03-04 18:24:09  30.24  2343912425577   \n",
       "2  Port Samanthamouth  2018-02-24 04:29:00  33.44  2005065760003   \n",
       "3          Rodneyfort  2018-02-10 23:22:03  23.44  5149245426178   \n",
       "4          South Jack  2018-03-06 04:28:35  34.58  3908451377344   \n",
       "\n",
       "   driver_count   type  \n",
       "0             5  Urban  \n",
       "1            72  Urban  \n",
       "2            57  Urban  \n",
       "3            34  Urban  \n",
       "4            46  Urban  "
      ]
     },
     "execution_count": 6,
     "metadata": {},
     "output_type": "execute_result"
    }
   ],
   "source": [
    "# Combine the data into a single dataset\n",
    "# Display the data table for preview\n",
    "merge_df = pd.merge(ride_df, city_df, on =\"city\", how=\"left\")\n",
    "merge_df.head()"
   ]
  },
  {
   "cell_type": "code",
   "execution_count": 7,
   "metadata": {},
   "outputs": [
    {
     "data": {
      "text/plain": [
       "city\n",
       "Amandaburgh             24.641667\n",
       "Barajasview             25.332273\n",
       "Barronchester           36.422500\n",
       "Bethanyland             32.956111\n",
       "Bradshawfurt            40.064000\n",
       "Brandonfort             35.437368\n",
       "Carriemouth             28.314444\n",
       "Christopherfurt         24.501852\n",
       "Colemanland             30.894545\n",
       "Davidfurt               31.995882\n",
       "Deanville               25.842632\n",
       "East Aaronbury          25.661111\n",
       "East Danielview         31.560588\n",
       "East Kaylahaven         23.757931\n",
       "East Kentstad           29.823077\n",
       "East Marymouth          30.835185\n",
       "Erikaland               24.906667\n",
       "Garzaport               24.123333\n",
       "Grahamburgh             25.221200\n",
       "Grayville               27.763333\n",
       "Harringtonfort          33.470000\n",
       "Huntermouth             28.993750\n",
       "Hurleymouth             25.891429\n",
       "Jerryton                25.649200\n",
       "Jessicaport             36.013333\n",
       "Johnton                 26.785714\n",
       "Joneschester            22.289600\n",
       "Josephside              32.858148\n",
       "Justinberg              23.694333\n",
       "Karenberg               26.340000\n",
       "                          ...    \n",
       "South Evanton           26.726129\n",
       "South Jack              22.965263\n",
       "South Jennifer          35.264286\n",
       "South Karenland         26.535526\n",
       "South Latoya            20.093158\n",
       "South Marychester       41.870000\n",
       "South Michelleport      24.451613\n",
       "South Phillip           28.571290\n",
       "South Saramouth         36.160000\n",
       "South Teresa            31.220455\n",
       "Taylorhaven             42.263333\n",
       "Valentineton            24.636364\n",
       "Veronicaberg            32.828235\n",
       "Victoriaport            27.780000\n",
       "West Angela             25.990000\n",
       "West Anthony            24.736667\n",
       "West Christopherberg    24.421154\n",
       "West Ericstad           22.347222\n",
       "West Gabriel            20.346087\n",
       "West Hannah             29.547619\n",
       "West Heather            33.890000\n",
       "West Heidi              23.133929\n",
       "West Josephberg         21.720385\n",
       "West Kimmouth           29.871500\n",
       "West Patrickchester     28.233125\n",
       "West Robert             25.123871\n",
       "West Samuelburgh        21.767600\n",
       "Williamsonville         31.875000\n",
       "Williamsstad            24.362174\n",
       "Williamsview            26.599000\n",
       "Name: fare, Length: 120, dtype: float64"
      ]
     },
     "execution_count": 7,
     "metadata": {},
     "output_type": "execute_result"
    }
   ],
   "source": [
    "# Average Fare ($) per City\n",
    "average_fare = merge_df.groupby(\"city\")[\"fare\"].mean()\n",
    "average_fare"
   ]
  },
  {
   "cell_type": "code",
   "execution_count": 8,
   "metadata": {},
   "outputs": [
    {
     "data": {
      "text/plain": [
       "city\n",
       "Amandaburgh             18\n",
       "Barajasview             22\n",
       "Barronchester           16\n",
       "Bethanyland             18\n",
       "Bradshawfurt            10\n",
       "Brandonfort             19\n",
       "Carriemouth             27\n",
       "Christopherfurt         27\n",
       "Colemanland             22\n",
       "Davidfurt               17\n",
       "Deanville               19\n",
       "East Aaronbury           9\n",
       "East Danielview         17\n",
       "East Kaylahaven         29\n",
       "East Kentstad           13\n",
       "East Marymouth          27\n",
       "Erikaland               12\n",
       "Garzaport                3\n",
       "Grahamburgh             25\n",
       "Grayville               15\n",
       "Harringtonfort           6\n",
       "Huntermouth             24\n",
       "Hurleymouth             28\n",
       "Jerryton                25\n",
       "Jessicaport              6\n",
       "Johnton                 21\n",
       "Joneschester            25\n",
       "Josephside              27\n",
       "Justinberg              30\n",
       "Karenberg               17\n",
       "                        ..\n",
       "South Evanton           31\n",
       "South Jack              19\n",
       "South Jennifer           7\n",
       "South Karenland         38\n",
       "South Latoya            19\n",
       "South Marychester        8\n",
       "South Michelleport      31\n",
       "South Phillip           31\n",
       "South Saramouth          4\n",
       "South Teresa            22\n",
       "Taylorhaven              6\n",
       "Valentineton            22\n",
       "Veronicaberg            17\n",
       "Victoriaport            14\n",
       "West Angela             39\n",
       "West Anthony            30\n",
       "West Christopherberg    26\n",
       "West Ericstad           18\n",
       "West Gabriel            23\n",
       "West Hannah             21\n",
       "West Heather             9\n",
       "West Heidi              28\n",
       "West Josephberg         26\n",
       "West Kimmouth           20\n",
       "West Patrickchester     16\n",
       "West Robert             31\n",
       "West Samuelburgh        25\n",
       "Williamsonville         14\n",
       "Williamsstad            23\n",
       "Williamsview            20\n",
       "Name: ride_id, Length: 120, dtype: int64"
      ]
     },
     "execution_count": 8,
     "metadata": {},
     "output_type": "execute_result"
    }
   ],
   "source": [
    "# Total number of Rides per City\n",
    "total_rides = merge_df.groupby(\"city\")[\"ride_id\"].count()\n",
    "total_rides"
   ]
  },
  {
   "cell_type": "code",
   "execution_count": 9,
   "metadata": {},
   "outputs": [
    {
     "data": {
      "text/plain": [
       "city\n",
       "Amandaburgh             12\n",
       "Barajasview             26\n",
       "Barronchester           11\n",
       "Bethanyland             22\n",
       "Bradshawfurt             7\n",
       "Brandonfort             10\n",
       "Carriemouth             52\n",
       "Christopherfurt         41\n",
       "Colemanland             23\n",
       "Davidfurt               23\n",
       "Deanville               49\n",
       "East Aaronbury           7\n",
       "East Danielview         22\n",
       "East Kaylahaven         65\n",
       "East Kentstad           20\n",
       "East Marymouth           5\n",
       "Erikaland               37\n",
       "Garzaport                7\n",
       "Grahamburgh             61\n",
       "Grayville                2\n",
       "Harringtonfort           4\n",
       "Huntermouth             37\n",
       "Hurleymouth             36\n",
       "Jerryton                64\n",
       "Jessicaport              1\n",
       "Johnton                 27\n",
       "Joneschester            39\n",
       "Josephside              25\n",
       "Justinberg              39\n",
       "Karenberg               22\n",
       "                        ..\n",
       "South Evanton           11\n",
       "South Jack              46\n",
       "South Jennifer           7\n",
       "South Karenland          4\n",
       "South Latoya            10\n",
       "South Marychester        1\n",
       "South Michelleport      72\n",
       "South Phillip           38\n",
       "South Saramouth          7\n",
       "South Teresa            21\n",
       "Taylorhaven              1\n",
       "Valentineton            45\n",
       "Veronicaberg            20\n",
       "Victoriaport            16\n",
       "West Angela             48\n",
       "West Anthony            70\n",
       "West Christopherberg    32\n",
       "West Ericstad           25\n",
       "West Gabriel            57\n",
       "West Hannah             12\n",
       "West Heather             4\n",
       "West Heidi              28\n",
       "West Josephberg         45\n",
       "West Kimmouth            4\n",
       "West Patrickchester     25\n",
       "West Robert             39\n",
       "West Samuelburgh        73\n",
       "Williamsonville          2\n",
       "Williamsstad            59\n",
       "Williamsview            46\n",
       "Name: driver_count, Length: 120, dtype: int64"
      ]
     },
     "execution_count": 9,
     "metadata": {},
     "output_type": "execute_result"
    }
   ],
   "source": [
    "# Total number of Drivers per City\n",
    "total_drivers = merge_df.groupby(\"city\")[\"driver_count\"].mean()\n",
    "total_drivers"
   ]
  },
  {
   "cell_type": "code",
   "execution_count": 10,
   "metadata": {},
   "outputs": [
    {
     "data": {
      "text/plain": [
       "Urban       66\n",
       "Suburban    36\n",
       "Rural       18\n",
       "Name: type, dtype: int64"
      ]
     },
     "execution_count": 10,
     "metadata": {},
     "output_type": "execute_result"
    }
   ],
   "source": [
    "# City Type\n",
    "city_type = city_df.set_index (\"city\")[\"type\"]\n",
    "city_type.value_counts()"
   ]
  },
  {
   "cell_type": "markdown",
   "metadata": {},
   "source": [
    "## Bubble Plot of Ride Sharing Data"
   ]
  },
  {
   "cell_type": "code",
   "execution_count": 11,
   "metadata": {},
   "outputs": [
    {
     "data": {
      "image/png": "[encoded data removed]",
      "text/plain": [
       "<Figure size 432x288 with 1 Axes>"
      ]
     },
     "metadata": {
      "needs_background": "light"
     },
     "output_type": "display_data"
    }
   ],
   "source": [
    "# Obtain the x and y coordinates for each of the three city types\n",
    "merge_df = pd.merge(city_df, ride_df, on =\"city\", how=\"outer\")\n",
    "urban = merge_df[(merge_df[\"type\"] == \"Urban\")]\n",
    "suburban = merge_df[(merge_df[\"type\"] == \"Suburban\")]\n",
    "rural = merge_df[(merge_df[\"type\"] == \"Rural\")]\n",
    "\n",
    "urbanavg = urban.groupby(\"city\")[\"fare\"].mean()\n",
    "suburbanavg = suburban.groupby(\"city\")[\"fare\"].mean()\n",
    "ruralavg = rural.groupby(\"city\")[\"fare\"].mean()\n",
    "\n",
    "urbanrides = urban.groupby(\"city\")[\"ride_id\"].count()\n",
    "suburbanrides = suburban.groupby(\"city\")[\"ride_id\"].count()\n",
    "ruralrides = rural.groupby(\"city\")[\"ride_id\"].count()\n",
    "\n",
    "urbandrivers = urban.groupby(\"city\")[\"driver_count\"].mean()\n",
    "suburbandrivers = suburban.groupby(\"city\")[\"driver_count\"].mean()\n",
    "ruraldrivers = rural.groupby(\"city\")[\"driver_count\"].mean()\n",
    "\n",
    "# Build the scatter plots for each city types\n",
    "urban_plot=plt.scatter(x=urbanrides, y=urbanavg, s=15*urbandrivers, c='coral' , linewidths=.75, edgecolor='black', marker =\"o\", label = \"Urban\")\n",
    "suburban_plot=plt.scatter(x=suburbanrides, y=suburbanavg, s=15*suburbandrivers, c=\"lightblue\", linewidths=.75, edgecolor='black', marker =\"o\", label =\"Suburban\")\n",
    "rural_plot=plt.scatter(x=ruralrides, y=ruralavg, s=15*ruraldrivers, c=\"gold\" , linewidths=.75, edgecolor='black',marker =\"o\", label = \"Rural\")\n",
    "\n",
    "# Incorporate the other graph properties\n",
    "plt.title(\"Pyber Ride Sharing Data (2018)\")\n",
    "plt.xlabel(\"Total Number of Rides (Per City)\")\n",
    "plt.ylabel(\"Average Fare ($)\")\n",
    "\n",
    "# Create a legend\n",
    "lgnd = plt.legend(fontsize = 8, mode = \"Expanded\", title = \"City Types\", frameon = True, edgecolor = \"black\", loc=\"best\") \n",
    "\n",
    "lgnd.legendHandles[0]._sizes = [75]\n",
    "lgnd.legendHandles[1]._sizes = [75]\n",
    "lgnd.legendHandles[2]._sizes = [75]\n",
    "\n",
    "# Incorporate a text label regarding circle size\n",
    "plt.text(42,35,\"Note: \\nCircle size correlates with driver count per city.\", fontsize = 10)\n",
    "\n",
    "# Save Figure\n",
    "plt.savefig(\"Pyber Ride Sharing Data.png\", bbox_inches=\"tight\")\n"
   ]
  },
  {
   "cell_type": "markdown",
   "metadata": {},
   "source": [
    "## Total Fares by City Type"
   ]
  },
  {
   "cell_type": "code",
   "execution_count": 12,
   "metadata": {},
   "outputs": [
    {
     "data": {
      "image/png": "[encoded data removed]",
      "text/plain": [
       "<Figure size 432x288 with 1 Axes>"
      ]
     },
     "metadata": {},
     "output_type": "display_data"
    }
   ],
   "source": [
    "# Calculate Type Percents\n",
    "total_fare = merge_df.groupby(['type'])['fare'].sum()\n",
    "\n",
    "# Build Pie Chart\n",
    "labels = [\"Rural\",\"Suburban\",\"Urban\" ]\n",
    "colors = [\"gold\",\"lightskyblue\",\"lightcoral\"]\n",
    "explode = (0, 0, 0.1)\n",
    "plt.title(\"% of Total Fares By City Types\")\n",
    "plt.pie(total_fare, explode=explode, labels=labels, colors=colors, autopct=\"%1.1f%%\",shadow=True, startangle=155)\n",
    "plt.axis(\"equal\")\n",
    "\n",
    "# Save Figure\n",
    "plt.savefig(\"Total Fares By City Types.png\")\n",
    "\n",
    "# Show Figure\n",
    "plt.show()"
   ]
  },
  {
   "cell_type": "markdown",
   "metadata": {},
   "source": [
    "## Total Rides by City Type"
   ]
  },
  {
   "cell_type": "code",
   "execution_count": 13,
   "metadata": {},
   "outputs": [
    {
     "data": {
      "image/png": "[encoded data removed]",
      "text/plain": [
       "<Figure size 432x288 with 1 Axes>"
      ]
     },
     "metadata": {},
     "output_type": "display_data"
    }
   ],
   "source": [
    "# Calculate Ride Percents\n",
    "total_rides = merge_df.groupby(['type'])['ride_id'].count()\n",
    "\n",
    "# Build Pie Chart\n",
    "labels = [\"Rural\",\"Suburban\",\"Urban\" ]\n",
    "colors = [\"gold\",\"lightskyblue\",\"lightcoral\"]\n",
    "explode = (0, 0, 0.1)\n",
    "plt.title(\"% of Total Rides By City Types\")\n",
    "plt.pie(total_rides, explode=explode, labels=labels, colors=colors,\n",
    "        autopct=\"%1.1f%%\", shadow=True, startangle=155)\n",
    "plt.axis(\"equal\")\n",
    "\n",
    "# Save Figure\n",
    "plt.savefig(\"Total Rides By City Types.png\")\n",
    "\n",
    "# Show Figure\n",
    "plt.show()"
   ]
  },
  {
   "cell_type": "markdown",
   "metadata": {},
   "source": [
    "## Total Drivers by City Type"
   ]
  },
  {
   "cell_type": "code",
   "execution_count": 14,
   "metadata": {},
   "outputs": [
    {
     "data": {
      "image/png": "[encoded data removed]",
      "text/plain": [
       "<Figure size 432x288 with 1 Axes>"
      ]
     },
     "metadata": {},
     "output_type": "display_data"
    }
   ],
   "source": [
    "# Calculate Percentageof Total Driver\n",
    "total_drivers = city_df.groupby(['type'])['driver_count'].sum()\n",
    "\n",
    "# Build Pie Charts\n",
    "labels = [\"Rural\",\"Suburban\",\"Urban\"]\n",
    "colors = [\"gold\",\"lightskyblue\",\"lightcoral\"]\n",
    "explode = (0, 0, 0.1)\n",
    "plt.title(\"% of Total Drivers By City Types\")\n",
    "plt.pie(total_drivers, explode=explode, labels=labels, colors=colors,\n",
    "        autopct=\"%1.1f%%\", shadow=True, startangle=155)\n",
    "plt.axis(\"equal\")\n",
    "\n",
    "# Save Figure\n",
    "plt.savefig(\"Total Drivers By City Types.png\")\n",
    "\n",
    "# Show Figure\n",
    "plt.show()\n"
   ]
  },
  {
   "cell_type": "code",
   "execution_count": 15,
   "metadata": {},
   "outputs": [],
   "source": [
    "# End of Pyber Analysis"
   ]
  }
 ],
 "metadata": {
  "anaconda-cloud": {},
  "kernelspec": {
   "display_name": "Python 3",
   "language": "python",
   "name": "python3"
  },
  "language_info": {
   "codemirror_mode": {
    "name": "ipython",
    "version": 3
   },
   "file_extension": ".py",
   "mimetype": "text/x-python",
   "name": "python",
   "nbconvert_exporter": "python",
   "pygments_lexer": "ipython3",
   "version": "3.7.1"
  }
 },
 "nbformat": 4,
 "nbformat_minor": 2
}
